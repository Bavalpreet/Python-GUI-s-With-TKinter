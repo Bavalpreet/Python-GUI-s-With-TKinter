{
  "nbformat": 4,
  "nbformat_minor": 0,
  "metadata": {
    "colab": {
      "name": "Tut_6.ipynb",
      "version": "0.3.2",
      "provenance": []
    },
    "kernelspec": {
      "name": "python3",
      "display_name": "Python 3"
    }
  },
  "cells": [
    {
      "cell_type": "code",
      "metadata": {
        "id": "fE91Wzl-MEwA",
        "colab_type": "code",
        "colab": {}
      },
      "source": [
        "#adding frames to your program\n",
        "from tkinter import *\n",
        "from PIL import ImageTk,Image\n",
        "\n",
        "root = Tk()\n",
        "root.title('Learn to code step by step')\n",
        "root.iconbitmap(r'boy.ico')\n",
        "\n",
        "frame = LabelFrame(root, text = \"this is my frame\", padx = 50, pady = 50)\n",
        "frame.pack(padx = 100, pady = 100)\n",
        "b = Button (frame, text = \"dont click hre\")\n",
        "b.pack()\n",
        "root.mainloop()\n"
      ],
      "execution_count": 0,
      "outputs": []
    },
    {
      "cell_type": "markdown",
      "metadata": {
        "id": "x862eIxKMPMI",
        "colab_type": "text"
      },
      "source": [
        " you can use pack with pack , grid with grid and pack with grid also like see below"
      ]
    },
    {
      "cell_type": "code",
      "metadata": {
        "id": "PMkn01b3MJKc",
        "colab_type": "code",
        "colab": {}
      },
      "source": [
        "#adding frames to your program2\n",
        "from tkinter import *\n",
        "from PIL import ImageTk,Image\n",
        "\n",
        "root = Tk()\n",
        "root.title('Learn to code step by step')\n",
        "root.iconbitmap(r'boy.ico')\n",
        "\n",
        "frame = LabelFrame(root, text = \"this is my frame\", padx = 5, pady = 5)\n",
        "frame.pack(padx = 10, pady = 10)\n",
        "\n",
        "b = Button (frame, text = \"dont click here\")\n",
        "b2 = Button (frame, text = \"you can click here\")\n",
        "b.grid(row = 0, column = 0)\n",
        "b2.grid(row = 0, column = 1)\n",
        "\n",
        "root.mainloop()\n"
      ],
      "execution_count": 0,
      "outputs": []
    }
  ]
}