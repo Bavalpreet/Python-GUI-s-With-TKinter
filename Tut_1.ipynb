{
  "nbformat": 4,
  "nbformat_minor": 0,
  "metadata": {
    "colab": {
      "name": "Tut_1.ipynb",
      "version": "0.3.2",
      "provenance": []
    },
    "kernelspec": {
      "name": "python3",
      "display_name": "Python 3"
    }
  },
  "cells": [
    {
      "cell_type": "code",
      "metadata": {
        "id": "nD2VxAg0rIXk",
        "colab_type": "code",
        "colab": {}
      },
      "source": [
        "#creating graphic user interface\n",
        "from tkinter import *\n",
        "root = Tk()\n",
        "#creating a label widget\n",
        "myLabel = Label(root, text = \"Hello world!\")\n",
        "# shoving onto the screen\n",
        "myLabel.pack()\n",
        "root.mainloop()\n"
      ],
      "execution_count": 0,
      "outputs": []
    },
    {
      "cell_type": "markdown",
      "metadata": {
        "id": "85MhRiFRrT1X",
        "colab_type": "text"
      },
      "source": [
        "In tkinter everything is a widget.There is button widget , text widget etc.the first thing we create is the root widget"
      ]
    },
    {
      "cell_type": "code",
      "metadata": {
        "id": "w4t683_irQaK",
        "colab_type": "code",
        "colab": {}
      },
      "source": [
        "#positioning with tkinter's grid system\n",
        "\n",
        "from tkinter import *\n",
        "root = Tk()\n",
        "#creating a label widget\n",
        "myLabel1 = Label(root, text = \"Hello world!\")\n",
        "myLabel2= Label(root, text = \"my name is xyz\")\n",
        "# shoving onto the screen\n",
        "myLabel1.grid(row = 0, column = 0)\n",
        "myLabel2.grid(row = 1, column = 0)\n",
        "root.mainloop()\n"
      ],
      "execution_count": 0,
      "outputs": []
    },
    {
      "cell_type": "code",
      "metadata": {
        "id": "znfsBSpErWxB",
        "colab_type": "code",
        "colab": {}
      },
      "source": [
        "#creating buttons with tkinter1\n",
        "from tkinter import *\n",
        "root = Tk()\n",
        "\n",
        "myButton = Button(root, text = \"click Me!\")\n",
        "myButton.pack()\n",
        "root.mainloop()"
      ],
      "execution_count": 0,
      "outputs": []
    },
    {
      "cell_type": "code",
      "metadata": {
        "id": "4MLEq3Y-rZVW",
        "colab_type": "code",
        "colab": {}
      },
      "source": [
        "#creating buttons with tkinter2\n",
        "from tkinter import *\n",
        "root = Tk()\n",
        "\n",
        "myButton = Button(root, text = \"click Me!\", state = DISABLED)\n",
        "myButton.pack()\n",
        "root.mainloop()"
      ],
      "execution_count": 0,
      "outputs": []
    },
    {
      "cell_type": "code",
      "metadata": {
        "id": "p1OiYLW4reAH",
        "colab_type": "code",
        "colab": {}
      },
      "source": [
        "#creating buttons with tkinter3\n",
        "from tkinter import *\n",
        "root = Tk()\n",
        "\n",
        "myButton = Button(root, text = \"click Me!\", padx = 50, pady = 50)\n",
        "myButton.pack()\n",
        "root.mainloop()"
      ],
      "execution_count": 0,
      "outputs": []
    },
    {
      "cell_type": "code",
      "metadata": {
        "id": "lnzN0SworfOX",
        "colab_type": "code",
        "colab": {}
      },
      "source": [
        "#creating buttons with tkinter4\n",
        "from tkinter import *\n",
        "root = Tk()\n",
        "\n",
        "def myClick():\n",
        "  myLabel = Label(root, text = \"look! I clicked the button\")\n",
        "  myLabel.pack()\n",
        "\n",
        "myButton = Button(root, text = \"click Me!\", command = myClick)\n",
        "myButton.pack()\n",
        "root.mainloop()"
      ],
      "execution_count": 0,
      "outputs": []
    },
    {
      "cell_type": "code",
      "metadata": {
        "id": "8T1poS0NrhpM",
        "colab_type": "code",
        "colab": {}
      },
      "source": [
        "#creating buttons with tkinter4\n",
        "from tkinter import *\n",
        "root = Tk()\n",
        "\n",
        "def myClick():\n",
        "  myLabel = Label(root, text = \"look! I clicked the button\")\n",
        "  myLabel.pack()\n",
        "\n",
        "myButton = Button(root, text = \"click Me!\", command = myClick, fg = \"blue\", bg = \"grey\")\n",
        "myButton.pack()\n",
        "root.mainloop()"
      ],
      "execution_count": 0,
      "outputs": []
    },
    {
      "cell_type": "code",
      "metadata": {
        "id": "PvZ-qocvrkWI",
        "colab_type": "code",
        "colab": {}
      },
      "source": [
        "#creating input fields with tkinter\n",
        "\n",
        "from tkinter import *\n",
        "root = Tk()\n",
        "\n",
        "e = Entry(root)\n",
        "e.pack()\n",
        "\n",
        "def myClick():\n",
        "  myLabel = Label(root, text = \"look! I clicked the button\")\n",
        "  myLabel.pack()\n",
        "\n",
        "myButton = Button(root, text = \"click Me!\", command = myClick, fg = \"blue\", bg = \"grey\")\n",
        "myButton.pack()\n",
        "root.mainloop()"
      ],
      "execution_count": 0,
      "outputs": []
    },
    {
      "cell_type": "code",
      "metadata": {
        "id": "4qY3XCP8rnZ2",
        "colab_type": "code",
        "colab": {}
      },
      "source": [
        "#creating input fields with tkinter2\n",
        "\n",
        "from tkinter import *\n",
        "root = Tk()\n",
        "\n",
        "e = Entry(root, width = 50, bg = \"blue\",fg = \"white\")\n",
        "e.pack()\n",
        "\n",
        "def myClick():\n",
        "  myLabel = Label(root, text = \"look! I clicked the button\")\n",
        "  myLabel.pack()\n",
        "\n",
        "myButton = Button(root, text = \"click Me!\", command = myClick, fg = \"blue\", bg = \"grey\")\n",
        "myButton.pack()\n",
        "root.mainloop()"
      ],
      "execution_count": 0,
      "outputs": []
    },
    {
      "cell_type": "code",
      "metadata": {
        "id": "tcKUh7KWrp4q",
        "colab_type": "code",
        "colab": {}
      },
      "source": [
        "#creating input fields with tkinter3\n",
        "\n",
        "from tkinter import *\n",
        "root = Tk()\n",
        "\n",
        "e = Entry(root, width = 50, borderwidth = 5)\n",
        "e.pack()\n",
        "\n",
        "def myClick():\n",
        "  myLabel = Label(root, text = \"look! I clicked the button\")\n",
        "  myLabel.pack()\n",
        "\n",
        "myButton = Button(root, text = \"click Me!\", command = myClick, fg = \"blue\", bg = \"grey\")\n",
        "myButton.pack()\n",
        "root.mainloop()"
      ],
      "execution_count": 0,
      "outputs": []
    },
    {
      "cell_type": "code",
      "metadata": {
        "id": "gwtNYyfRrsXH",
        "colab_type": "code",
        "colab": {}
      },
      "source": [
        "#creating input fields with tkinter4\n",
        "\n",
        "from tkinter import *\n",
        "root = Tk()\n",
        "\n",
        "e = Entry(root, width = 50)\n",
        "e.pack()\n",
        "\n",
        "def myClick():\n",
        "  myLabel = Label(root, text = \"Hello\" + e.get())\n",
        "  myLabel.pack()\n",
        "\n",
        "myButton = Button(root, text = \"enter your name\", command = myClick)\n",
        "myButton.pack()\n",
        "root.mainloop()\n"
      ],
      "execution_count": 0,
      "outputs": []
    },
    {
      "cell_type": "code",
      "metadata": {
        "id": "93mdaYabru0P",
        "colab_type": "code",
        "colab": {}
      },
      "source": [
        "#creating input fields with tkinter4b\n",
        "\n",
        "from tkinter import *\n",
        "root = Tk()\n",
        "\n",
        "e = Entry(root, width = 50)\n",
        "e.pack()\n",
        "\n",
        "def myClick():\n",
        "  hello = \"Hello \" + e.get()\n",
        "  myLabel = Label(root, text = hello)\n",
        "  myLabel.pack()\n",
        "\n",
        "myButton = Button(root, text = \"enter your name\", command = myClick)\n",
        "myButton.pack()\n",
        "root.mainloop()\n"
      ],
      "execution_count": 0,
      "outputs": []
    },
    {
      "cell_type": "code",
      "metadata": {
        "id": "5iT7ZoBKrw3L",
        "colab_type": "code",
        "colab": {}
      },
      "source": [
        "#creating input fields with tkinter4b\n",
        "\n",
        "from tkinter import *\n",
        "root = Tk()\n",
        "\n",
        "e = Entry(root, width = 50)\n",
        "e.pack()\n",
        "e.insert(0, \"Enter your name:\")\n",
        "\n",
        "def myClick():\n",
        "  hello = \"Hello \" + e.get()\n",
        "  myLabel = Label(root, text = hello)\n",
        "  myLabel.pack()\n",
        "\n",
        "myButton = Button(root, text = \"enter your name\", command = myClick)\n",
        "myButton.pack()\n",
        "root.mainloop()\n"
      ],
      "execution_count": 0,
      "outputs": []
    },
    {
      "cell_type": "code",
      "metadata": {
        "id": "3iXXpkBhrzJL",
        "colab_type": "code",
        "colab": {}
      },
      "source": [
        ""
      ],
      "execution_count": 0,
      "outputs": []
    }
  ]
}