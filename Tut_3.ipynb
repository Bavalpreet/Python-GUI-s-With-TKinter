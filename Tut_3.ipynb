{
  "nbformat": 4,
  "nbformat_minor": 0,
  "metadata": {
    "colab": {
      "name": "Tut_3.ipynb",
      "version": "0.3.2",
      "provenance": []
    },
    "kernelspec": {
      "name": "python3",
      "display_name": "Python 3"
    }
  },
  "cells": [
    {
      "cell_type": "code",
      "metadata": {
        "id": "SIV1JIUAzBN_",
        "colab_type": "code",
        "colab": {}
      },
      "source": [
        "#using icons, images, and exit buttons\n",
        "\n",
        "from tkinter import *\n",
        "\n",
        "root = Tk()\n",
        "root.title('learn to code step by step')\n",
        "root.iconbitmap(r'c:/')#here you have to add the address of icon \n",
        "#here r stands for the raw string whenever you have to add the location we use this.\n",
        "\n",
        "\n",
        "\n",
        "root.mainloop()"
      ],
      "execution_count": 0,
      "outputs": []
    },
    {
      "cell_type": "markdown",
      "metadata": {
        "id": "H0Rozj2Wzfu_",
        "colab_type": "text"
      },
      "source": [
        "size of icon can be 16 * 16 or 32 * 32 or 64*64\n",
        "it only supports file in .ico extention so if you are having a file in .png format or .jpeg format convert it into .ico\n",
        "\n",
        "\n",
        "to do so you can go to [link text](https://www.flaticon.com/) to get  your desired icon and then go to  [link text](https://icoconvert.com) to change the format  into .ico"
      ]
    },
    {
      "cell_type": "code",
      "metadata": {
        "id": "KOGLMmYczhlZ",
        "colab_type": "code",
        "colab": {}
      },
      "source": [
        "#method 2 of adding an icon\n",
        "#using icons, images, and exit buttons\n",
        "\n",
        "from tkinter import *\n",
        "\n",
        "root = Tk()\n",
        "root.title('learn to code step by step')\n",
        "root.iconbitmap(r'imagename.ico')#if you have uplaoded your image to the project folder than dimage name with .ico extenton\n",
        "#here r stands for the raw string whenever you have to add the location we use this.\n",
        "\n",
        "\n",
        "\n",
        "root.mainloop()"
      ],
      "execution_count": 0,
      "outputs": []
    },
    {
      "cell_type": "code",
      "metadata": {
        "id": "AqsE8_10zrju",
        "colab_type": "code",
        "colab": {}
      },
      "source": [
        "#using icons, images, and exit buttons2\n",
        "from tkinter import *\n",
        "\n",
        "root = Tk()\n",
        "root.geometry('300x300')#to change the size of root window\n",
        "root.title('learn to code step by step')\n",
        "root.iconbitmap(r'imagename.ico')\n",
        "root.mainloop()"
      ],
      "execution_count": 0,
      "outputs": []
    },
    {
      "cell_type": "code",
      "metadata": {
        "id": "uK36RG8Vzuyi",
        "colab_type": "code",
        "colab": {}
      },
      "source": [
        "#using icons, images, and exit buttons3\n",
        "from tkinter import *\n",
        "from PIL import ImageTk,Image\n",
        "\n",
        "root = Tk()\n",
        "root.geometry('300x300')#to change the size of root window\n",
        "root.title('learn to code step by step')\n",
        "root.iconbitmap(r'boy.ico')\n",
        "\n",
        "button_quit = Button(root, text = \"Exit Program\", command = root.quit)\n",
        "button_quit.pack()\n",
        "\n",
        "root.mainloop()"
      ],
      "execution_count": 0,
      "outputs": []
    },
    {
      "cell_type": "markdown",
      "metadata": {
        "id": "1mkfUeNUz18w",
        "colab_type": "text"
      },
      "source": [
        "from PIL import ImageTk,Image\n",
        "\n",
        "for this you have to first install the pillow as i am using the pycharm i installed the packages in it."
      ]
    },
    {
      "cell_type": "code",
      "metadata": {
        "id": "1UltvRAFzyLS",
        "colab_type": "code",
        "colab": {}
      },
      "source": [
        "#using icons, images, and exit buttons4\n",
        "from tkinter import *\n",
        "from PIL import ImageTk,Image\n",
        "\n",
        "root = Tk()\n",
        "root.geometry('300x300')#to change the size of root window\n",
        "root.title('learn to code step by step')\n",
        "root.iconbitmap(r'boy.ico')\n",
        "\n",
        "my_img = ImageTk.PhotoImage(Image.open(\"cat.jpg\"))#make sure you upload this image in your project folder\n",
        "my_label = Label(image = my_img)\n",
        "my_label.pack()\n",
        "\n",
        "button_quit = Button(root, text = \"Exit Program\", command = root.quit)\n",
        "button_quit.pack()\n",
        "\n",
        "root.mainloop()"
      ],
      "execution_count": 0,
      "outputs": []
    }
  ]
}