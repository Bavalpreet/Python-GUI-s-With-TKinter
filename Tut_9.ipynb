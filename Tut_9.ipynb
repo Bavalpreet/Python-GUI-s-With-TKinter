{
  "nbformat": 4,
  "nbformat_minor": 0,
  "metadata": {
    "colab": {
      "name": "Tut_9.ipynb",
      "version": "0.3.2",
      "provenance": []
    },
    "kernelspec": {
      "name": "python3",
      "display_name": "Python 3"
    }
  },
  "cells": [
    {
      "cell_type": "code",
      "metadata": {
        "id": "aSPDUB1_FBaP",
        "colab_type": "code",
        "colab": {}
      },
      "source": [
        "#create new windows in tkinter\n",
        "from tkinter import *\n",
        "from PIL import ImageTk,Image\n",
        "\n",
        "root = Tk()\n",
        "root.title('learn to code step by step')\n",
        "root.iconbitmap(r'boy.ico')\n",
        "\n",
        "top = Toplevel()\n",
        "\n",
        "mainloop()"
      ],
      "execution_count": 0,
      "outputs": []
    },
    {
      "cell_type": "code",
      "metadata": {
        "id": "XnEc2-UTHB9W",
        "colab_type": "code",
        "colab": {}
      },
      "source": [
        "#create new windows in tkinter2\n",
        "from tkinter import *\n",
        "from PIL import ImageTk,Image\n",
        "\n",
        "root = Tk()\n",
        "root.title('learn to code step by step')\n",
        "root.iconbitmap(r'boy.ico')\n",
        "\n",
        "top = Toplevel()\n",
        "lbl = Label(top, text = 'hello world').pack()\n",
        "\n",
        "mainloop()"
      ],
      "execution_count": 0,
      "outputs": []
    },
    {
      "cell_type": "code",
      "metadata": {
        "id": "-1QAiRkZHtcZ",
        "colab_type": "code",
        "colab": {}
      },
      "source": [
        "#create new windows in tkinter3\n",
        "from tkinter import *\n",
        "from PIL import ImageTk,Image\n",
        "\n",
        "root = Tk()\n",
        "root.title('learn to code step by step')\n",
        "root.iconbitmap(r'boy.ico')\n",
        "\n",
        "top = Toplevel()\n",
        "my_img = ImageTk.PhotoImage(Image.open(\"images/a.jpg\"))\n",
        "my_img = Label(top, image = my_img).pack()\n",
        "\n",
        "mainloop()"
      ],
      "execution_count": 0,
      "outputs": []
    },
    {
      "cell_type": "code",
      "metadata": {
        "id": "L_KJrx_UI48M",
        "colab_type": "code",
        "colab": {}
      },
      "source": [
        "#create new windows in tkinter3\n",
        "from tkinter import *\n",
        "from PIL import ImageTk,Image\n",
        "\n",
        "root = Tk()\n",
        "root.title('learn to code step by step')\n",
        "root.iconbitmap(r'boy.ico')\n",
        "\n",
        "top = Toplevel()\n",
        "top.title('learn to code step by step')\n",
        "top.iconbitmap(r'boy.ico')\n",
        "my_img = ImageTk.PhotoImage(Image.open(\"images/a.jpg\"))\n",
        "my_label = Label(top, image = my_img).pack()\n",
        "\n",
        "mainloop()"
      ],
      "execution_count": 0,
      "outputs": []
    },
    {
      "cell_type": "code",
      "metadata": {
        "id": "4agUtsztJS-o",
        "colab_type": "code",
        "colab": {}
      },
      "source": [
        "#create new windows in tkinter3\n",
        "from tkinter import *\n",
        "from PIL import ImageTk,Image\n",
        "\n",
        "root = Tk()\n",
        "root.title('learn to code step by step')\n",
        "root.iconbitmap(r'boy.ico')\n",
        "\n",
        "def open():\n",
        "  top = Toplevel()\n",
        "  top.title('learn to code step by step')\n",
        "  top.iconbitmap(r'boy.ico')\n",
        "  my_img = ImageTk.PhotoImage(Image.open(\"images/a.jpg\"))\n",
        "  my_label = Label(top, image = my_img).pack()\n",
        "\n",
        "  \n",
        "btn = Button(root, text = \"open second window\", command = open).pack()  \n",
        "  \n",
        "mainloop()"
      ],
      "execution_count": 0,
      "outputs": []
    },
    {
      "cell_type": "code",
      "metadata": {
        "id": "UXyXLRnWLR_0",
        "colab_type": "code",
        "colab": {}
      },
      "source": [
        "#create new windows in tkinter3\n",
        "from tkinter import *\n",
        "from PIL import ImageTk,Image\n",
        "\n",
        "root = Tk()\n",
        "root.title('learn to code step by step')\n",
        "root.iconbitmap(r'boy.ico')\n",
        "\n",
        "def open():\n",
        "  global my_img\n",
        "  top = Toplevel()\n",
        "  top.title('learn to code step by step')\n",
        "  top.iconbitmap(r'boy.ico')\n",
        "  my_img = ImageTk.PhotoImage(Image.open(\"images/a.jpg\"))\n",
        "  my_label = Label(top, image = my_img).pack()\n",
        "\n",
        "  \n",
        "btn = Button(root, text = \"open second window\", command = open).pack()  \n",
        "  \n",
        "mainloop()"
      ],
      "execution_count": 0,
      "outputs": []
    },
    {
      "cell_type": "code",
      "metadata": {
        "id": "k1P5wp0RLseq",
        "colab_type": "code",
        "colab": {}
      },
      "source": [
        "#create new windows in tkinter3\n",
        "from tkinter import *\n",
        "from PIL import ImageTk,Image\n",
        "\n",
        "root = Tk()\n",
        "root.title('learn to code step by step')\n",
        "root.iconbitmap(r'boy.ico')\n",
        "\n",
        "def open():\n",
        "  global my_img\n",
        "  top = Toplevel()\n",
        "  top.title('learn to code step by step')\n",
        "  top.iconbitmap(r'boy.ico')\n",
        "  my_img = ImageTk.PhotoImage(Image.open(\"images/a.jpg\"))\n",
        "  my_label = Label(top, image = my_img).pack()\n",
        "  btn2 = Button(top, text =\"close window\",command = top.destroy).pack()\n",
        "\n",
        "  \n",
        "btn = Button(root, text = \"open second window\", command = open).pack()  \n",
        "  \n",
        "mainloop()"
      ],
      "execution_count": 0,
      "outputs": []
    }
  ]
}