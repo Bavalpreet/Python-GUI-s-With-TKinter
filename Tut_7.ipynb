{
  "nbformat": 4,
  "nbformat_minor": 0,
  "metadata": {
    "colab": {
      "name": "Tut_7.ipynb",
      "version": "0.3.2",
      "provenance": []
    },
    "kernelspec": {
      "name": "python3",
      "display_name": "Python 3"
    }
  },
  "cells": [
    {
      "cell_type": "code",
      "metadata": {
        "id": "qws7LIZsPT-Y",
        "colab_type": "code",
        "colab": {}
      },
      "source": [
        "from tkinter import *\n",
        "from PIL import ImageTk, Image\n",
        "\n",
        "root = Tk()\n",
        "root.title('learn to code step by step')\n",
        "root.iconbitmap(r'boy.ico')\n",
        "var1 = IntVar()\n",
        "\n",
        "Radiobutton(root, text='option 1', variable=var1, value=1).pack()\n",
        "Radiobutton(root, text='option 2', variable=var1, value=2).pack()\n",
        "\n",
        "mainloop()\n"
      ],
      "execution_count": 0,
      "outputs": []
    },
    {
      "cell_type": "markdown",
      "metadata": {
        "id": "3OA8Q8DYPbpe",
        "colab_type": "text"
      },
      "source": [
        "kinter has its own variables wich are different from python variables[link text](https://)"
      ]
    },
    {
      "cell_type": "code",
      "metadata": {
        "id": "t6y5z3XqpAbM",
        "colab_type": "code",
        "colab": {}
      },
      "source": [
        "from tkinter import *\n",
        "from PIL import ImageTk, Image\n",
        "\n",
        "root = Tk()\n",
        "root.title('learn to code step by step')\n",
        "root.iconbitmap(r'boy.ico')\n",
        "var1 = IntVar()\n",
        "\n",
        "Radiobutton(root, text='option 1', variable=var1, value=1).pack()\n",
        "Radiobutton(root, text='option 2', variable=var1, value=2).pack()\n",
        "myLabel = Label(root,text = var1.get())\n",
        "myLabel.pack()\n",
        "\n",
        "mainloop()\n"
      ],
      "execution_count": 0,
      "outputs": []
    },
    {
      "cell_type": "code",
      "metadata": {
        "id": "FpLV2juIogrp",
        "colab_type": "code",
        "colab": {}
      },
      "source": [
        "from tkinter import *\n",
        "from PIL import ImageTk, Image\n",
        "\n",
        "root = Tk()\n",
        "root.title('learn to code step by step')\n",
        "root.iconbitmap(r'boy.ico')\n",
        "var1 = IntVar()\n",
        "var1.set('2')# when we do set then it will automatically select that value\n",
        "\n",
        "def clicked(value):\n",
        "  myLabel = Label(root,text = var1.get())\n",
        "  myLabel.pack()\n",
        "\n",
        "Radiobutton(root, text='option 1', variable=var1, value=1,command = lambda: clicked(var1.get())).pack()\n",
        "Radiobutton(root, text='option 2', variable=var1, value=2,command = lambda: clicked(var1.get())).pack()\n",
        "\n",
        "myLabel = Label(root,text = var1.get())\n",
        "myLabel.pack()\n",
        "\n",
        "mainloop()\n"
      ],
      "execution_count": 0,
      "outputs": []
    },
    {
      "cell_type": "code",
      "metadata": {
        "id": "Xm12KrH7sT5G",
        "colab_type": "code",
        "colab": {}
      },
      "source": [
        "from tkinter import *\n",
        "from PIL import ImageTk, Image\n",
        "\n",
        "root = Tk()\n",
        "root.title('learn to code step by step')\n",
        "root.iconbitmap(r'boy.ico')\n",
        "var1 = IntVar()\n",
        "var1.set('2')# when we do set then it will automatically select that value\n",
        "\n",
        "def clicked(value):\n",
        "  myLabel = Label(root,text = var1.get())\n",
        "  myLabel.pack()\n",
        "\n",
        "Radiobutton(root, text='option 1', variable=var1, value=1,command = lambda: clicked(var1.get())).pack()\n",
        "Radiobutton(root, text='option 2', variable=var1, value=2,command = lambda: clicked(var1.get())).pack()\n",
        "\n",
        "myLabel = Label(root,text = var1.get())\n",
        "myLabel.pack()\n",
        "\n",
        "myButton = Button(root, text = 'click me!', command = lambda: clicked(var1.get()))\n",
        "myButton.pack()\n",
        "\n",
        "mainloop()\n"
      ],
      "execution_count": 0,
      "outputs": []
    },
    {
      "cell_type": "code",
      "metadata": {
        "id": "xbDfPg1CtDUv",
        "colab_type": "code",
        "colab": {}
      },
      "source": [
        "from tkinter import *\n",
        "from PIL import ImageTk, Image\n",
        "\n",
        "root = Tk()\n",
        "root.title('learn to code step by step')\n",
        "root.iconbitmap(r'boy.ico')\n",
        "\n",
        "pizza = StringVar()\n",
        "pizza.set(\"pepperoni\")\n",
        "\n",
        "MODES = [\n",
        "    (\"Pepperoni\",\"Pepperoni\"),\n",
        "    (\"Cheese\",\"Cheese\"),\n",
        "    (\"Mushroom\",\"Mushroom\"),\n",
        "    (\"Onion\",\"Onion\"),\n",
        "    \n",
        "]\n",
        "\n",
        "for text, mode in MODES:\n",
        "  Radiobutton(root, text = text, variable = pizza, value = mode).pack()\n",
        "\n",
        "def clicked(value):\n",
        "  myLabel = Label(root,text = pizza.get())\n",
        "  myLabel.pack()\n",
        "\n",
        "#Radiobutton(root, text='option 1', variable=var1, value=1,command = lambda: clicked(var1.get())).pack()\n",
        "#Radiobutton(root, text='option 2', variable=var1, value=2,command = lambda: clicked(var1.get())).pack()\n",
        "\n",
        "myLabel = Label(root,text = pizza.get())\n",
        "myLabel.pack()\n",
        "\n",
        "myButton = Button(root, text = 'click me!', command = lambda: clicked(pizza.get()))\n",
        "myButton.pack()\n",
        "\n",
        "mainloop()\n"
      ],
      "execution_count": 0,
      "outputs": []
    },
    {
      "cell_type": "code",
      "metadata": {
        "id": "cpgs4-gByJHt",
        "colab_type": "code",
        "colab": {}
      },
      "source": [
        "from tkinter import *\n",
        "from PIL import ImageTk, Image\n",
        "\n",
        "root = Tk()\n",
        "root.title('learn to code step by step')\n",
        "root.iconbitmap(r'boy.ico')\n",
        "\n",
        "pizza = StringVar()\n",
        "pizza.set(\"pepperoni\")\n",
        "\n",
        "MODES = [\n",
        "    (\"Pepperoni\",\"Pepperoni\"),\n",
        "    (\"Cheese\",\"Cheese\"),\n",
        "    (\"Mushroom\",\"Mushroom\"),\n",
        "    (\"Onion\",\"Onion\"),\n",
        "    \n",
        "]\n",
        "\n",
        "for text, mode in MODES:\n",
        "  Radiobutton(root, text = text, variable = pizza, value = mode).pack(anchor = W)\n",
        "\n",
        "def clicked(value):\n",
        "  myLabel = Label(root,text = pizza.get())\n",
        "  myLabel.pack()\n",
        "\n",
        "#Radiobutton(root, text='option 1', variable=var1, value=1,command = lambda: clicked(var1.get())).pack()\n",
        "#Radiobutton(root, text='option 2', variable=var1, value=2,command = lambda: clicked(var1.get())).pack()\n",
        "\n",
        "myLabel = Label(root,text = pizza.get())\n",
        "myLabel.pack()\n",
        "\n",
        "myButton = Button(root, text = 'click me!', command = lambda: clicked(pizza.get()))\n",
        "myButton.pack()\n",
        "\n",
        "mainloop()\n"
      ],
      "execution_count": 0,
      "outputs": []
    },
    {
      "cell_type": "code",
      "metadata": {
        "id": "kHG0PwO8yiOB",
        "colab_type": "code",
        "colab": {}
      },
      "source": [
        "from tkinter import *\n",
        "from PIL import ImageTk, Image\n",
        "\n",
        "root = Tk()\n",
        "root.title('learn to code step by step')\n",
        "root.iconbitmap(r'boy.ico')\n",
        "\n",
        "pizza = StringVar()\n",
        "pizza.set(\"pepperoni\")\n",
        "\n",
        "MODES = [\n",
        "    (\"Pepperoni\",\"Pepperoni\"),\n",
        "    (\"Cheese\",\"Cheese\"),\n",
        "    (\"Mushroom\",\"Mushroom\"),\n",
        "    (\"Onion\",\"Onion\"),\n",
        "    \n",
        "]\n",
        "\n",
        "for text, mode in MODES:\n",
        "  Radiobutton(root, text = text, variable = pizza, value = mode).pack(anchor = W)\n",
        "\n",
        "def clicked(value):\n",
        "  myLabel = Label(root,text = pizza.get())\n",
        "  myLabel.pack()\n",
        "\n",
        "#Radiobutton(root, text='option 1', variable=var1, value=1,command = lambda: clicked(var1.get())).pack()\n",
        "#Radiobutton(root, text='option 2', variable=var1, value=2,command = lambda: clicked(var1.get())).pack()\n",
        "\n",
        "#myLabel = Label(root,text = pizza.get())\n",
        "#myLabel.pack()\n",
        "\n",
        "myButton = Button(root, text = 'click me!', command = lambda: clicked(pizza.get()))\n",
        "myButton.pack()\n",
        "\n",
        "mainloop()\n"
      ],
      "execution_count": 0,
      "outputs": []
    }
  ]
}