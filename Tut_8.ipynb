{
  "nbformat": 4,
  "nbformat_minor": 0,
  "metadata": {
    "colab": {
      "name": "Tut_8.ipynb",
      "version": "0.3.2",
      "provenance": []
    },
    "kernelspec": {
      "name": "python3",
      "display_name": "Python 3"
    }
  },
  "cells": [
    {
      "cell_type": "code",
      "metadata": {
        "id": "KfGcc63XuQoE",
        "colab_type": "code",
        "colab": {}
      },
      "source": [
        "# message boxes with tkinter\n",
        "#several type of message boxes are showinfo, showwarning, showerror, askquestion, askokcancel, askyesno\n",
        "from tkinter import *\n",
        "from PIL import ImageTk,Image\n",
        "from tkinter import messagebox\n",
        "\n",
        "root = Tk()\n",
        "root.title('Learn to code step by step')\n",
        "root.iconbitmap(r'boy.ico')\n",
        "\n",
        "def popup():\n",
        "  messagebox.showinfo('This is my popup', 'hello world')\n",
        "\n",
        "Button(root, text = 'popup', command = popup).pack()\n",
        "\n",
        "mainloop()"
      ],
      "execution_count": 0,
      "outputs": []
    },
    {
      "cell_type": "code",
      "metadata": {
        "id": "jb6sx6Rxw6Tl",
        "colab_type": "code",
        "colab": {}
      },
      "source": [
        "# message boxes with tkinter2\n",
        "from tkinter import *\n",
        "from PIL import ImageTk,Image\n",
        "from tkinter import messagebox\n",
        "\n",
        "root = Tk()\n",
        "root.title('Learn to code step by step')\n",
        "root.iconbitmap(r'boy.ico')\n",
        "\n",
        "def popup():\n",
        "  messagebox.showerror('This is my popup', 'hello world')\n",
        "\n",
        "Button(root, text = 'popup', command = popup).pack()\n",
        "\n",
        "mainloop()"
      ],
      "execution_count": 0,
      "outputs": []
    },
    {
      "cell_type": "code",
      "metadata": {
        "id": "aOyuu-F8A_N9",
        "colab_type": "code",
        "colab": {}
      },
      "source": [
        "# message boxes with tkinter3\n",
        "from tkinter import *\n",
        "from PIL import ImageTk,Image\n",
        "from tkinter import messagebox\n",
        "\n",
        "root = Tk()\n",
        "root.title('Learn to code step by step')\n",
        "root.iconbitmap(r'boy.ico')\n",
        "\n",
        "def popup():\n",
        "  messagebox.showwarning('This is my popup', 'hello world')\n",
        "\n",
        "Button(root, text = 'popup', command = popup).pack()\n",
        "\n",
        "mainloop()"
      ],
      "execution_count": 0,
      "outputs": []
    },
    {
      "cell_type": "code",
      "metadata": {
        "id": "77FoYPH1BXhB",
        "colab_type": "code",
        "colab": {}
      },
      "source": [
        "\n",
        "# message boxes with tkinter4\n",
        "from tkinter import *\n",
        "from PIL import ImageTk,Image\n",
        "from tkinter import messagebox\n",
        "\n",
        "root = Tk()\n",
        "root.title('Learn to code step by step')\n",
        "root.iconbitmap(r'boy.ico')\n",
        "\n",
        "def popup():\n",
        "  messagebox.askquestion('This is my popup', 'hello world')\n",
        "\n",
        "Button(root, text = 'popup', command = popup).pack()\n",
        "\n",
        "mainloop()"
      ],
      "execution_count": 0,
      "outputs": []
    },
    {
      "cell_type": "code",
      "metadata": {
        "id": "KXNF-hDdB0CV",
        "colab_type": "code",
        "colab": {}
      },
      "source": [
        "\n",
        "# message boxes with tkinter5\n",
        "from tkinter import *\n",
        "from PIL import ImageTk,Image\n",
        "from tkinter import messagebox\n",
        "\n",
        "root = Tk()\n",
        "root.title('Learn to code step by step')\n",
        "root.iconbitmap(r'boy.ico')\n",
        "\n",
        "def popup():\n",
        "  messagebox.askokcancel('This is my popup', 'hello world')\n",
        "\n",
        "Button(root, text = 'popup', command = popup).pack()\n",
        "\n",
        "mainloop()"
      ],
      "execution_count": 0,
      "outputs": []
    },
    {
      "cell_type": "code",
      "metadata": {
        "id": "XPjRpuRPB6Nb",
        "colab_type": "code",
        "colab": {}
      },
      "source": [
        "\n",
        "# message boxes with tkinter6\n",
        "from tkinter import *\n",
        "from PIL import ImageTk,Image\n",
        "from tkinter import messagebox\n",
        "\n",
        "root = Tk()\n",
        "root.title('Learn to code step by step')\n",
        "root.iconbitmap(r'boy.ico')\n",
        "\n",
        "def popup():\n",
        "  messagebox.askyesno('This is my popup', 'hello world')\n",
        "\n",
        "Button(root, text = 'popup', command = popup).pack()\n",
        "\n",
        "mainloop()"
      ],
      "execution_count": 0,
      "outputs": []
    },
    {
      "cell_type": "code",
      "metadata": {
        "id": "HnoY08b6CLeD",
        "colab_type": "code",
        "colab": {}
      },
      "source": [
        "\n",
        "# message boxes with tkinter7\n",
        "from tkinter import *\n",
        "from PIL import ImageTk,Image\n",
        "from tkinter import messagebox\n",
        "\n",
        "root = Tk()\n",
        "root.title('Learn to code step by step')\n",
        "root.iconbitmap(r'boy.ico')\n",
        "\n",
        "def popup():\n",
        "  response = messagebox.askyesno('This is my popup', 'hello world')\n",
        "  Label(root, text = response).pack()\n",
        "\n",
        "  \n",
        "Button(root, text = 'popup', command = popup).pack()\n",
        "\n",
        "mainloop()"
      ],
      "execution_count": 0,
      "outputs": []
    },
    {
      "cell_type": "code",
      "metadata": {
        "id": "wpZUvqR0C-sr",
        "colab_type": "code",
        "colab": {}
      },
      "source": [
        "\n",
        "# message boxes with tkinter8\n",
        "from tkinter import *\n",
        "from PIL import ImageTk,Image\n",
        "from tkinter import messagebox\n",
        "\n",
        "root = Tk()\n",
        "root.title('Learn to code step by step')\n",
        "root.iconbitmap(r'boy.ico')\n",
        "\n",
        "def popup():\n",
        "  response = messagebox.askyesno('This is my popup', 'hello world')\n",
        "  Label(root, text = response).pack()\n",
        "  if response == 1:\n",
        "    Label(root, text = 'you clicked yes!').pack()\n",
        "  else:\n",
        "    Label(root, text = 'you clicked No!').pack()\n",
        "\n",
        "  \n",
        "Button(root, text = 'popup', command = popup).pack()\n",
        "\n",
        "mainloop()"
      ],
      "execution_count": 0,
      "outputs": []
    },
    {
      "cell_type": "code",
      "metadata": {
        "id": "9X7ZtbRfDGcU",
        "colab_type": "code",
        "colab": {}
      },
      "source": [
        ""
      ],
      "execution_count": 0,
      "outputs": []
    }
  ]
}