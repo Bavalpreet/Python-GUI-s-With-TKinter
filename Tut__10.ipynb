{
  "nbformat": 4,
  "nbformat_minor": 0,
  "metadata": {
    "colab": {
      "name": "Tut__10.ipynb",
      "version": "0.3.2",
      "provenance": []
    },
    "kernelspec": {
      "name": "python3",
      "display_name": "Python 3"
    }
  },
  "cells": [
    {
      "cell_type": "code",
      "metadata": {
        "id": "4VtmIAjmXcCs",
        "colab_type": "code",
        "colab": {}
      },
      "source": [
        "#open files dialog box\n",
        "\n",
        "from tkinter import *\n",
        "from PIL import ImageTk,Image\n",
        "from tkinter import filedialog\n",
        "\n",
        "root = Tk()\n",
        "root.title('codemy.com Image Viewer')\n",
        "root.iconbitmap(r'boy.ico')\n",
        "\n",
        "root.filename = filedialog.askopenfilename(initialdir = 'C:', title = 'select a file', filetypes = (('png files', '*.png'),('all files','*.*')))\n",
        "\n",
        "root.mainloop()"
      ],
      "execution_count": 0,
      "outputs": []
    },
    {
      "cell_type": "code",
      "metadata": {
        "id": "L05JW4DJc-ks",
        "colab_type": "code",
        "colab": {}
      },
      "source": [
        "#open files dialog box2\n",
        "\n",
        "from tkinter import *\n",
        "from PIL import ImageTk,Image\n",
        "from tkinter import filedialog\n",
        "\n",
        "root = Tk()\n",
        "root.title('codemy.com Image Viewer')\n",
        "root.iconbitmap(r'boy.ico')\n",
        "\n",
        "root.filename = filedialog.askopenfilename(initialdir = 'C:/Users/DELL/Desktop/images', title = 'select a file', filetypes = (('png files', '*.png'),('all files','*.*')))\n",
        "my_label = Label(root, text = root.filename).pack()\n",
        "\n",
        "root.mainloop()"
      ],
      "execution_count": 0,
      "outputs": []
    },
    {
      "cell_type": "code",
      "metadata": {
        "id": "2PVwNs56eKiF",
        "colab_type": "code",
        "colab": {}
      },
      "source": [
        "#open files dialog box3\n",
        "\n",
        "from tkinter import *\n",
        "from PIL import ImageTk,Image\n",
        "from tkinter import filedialog\n",
        "\n",
        "root = Tk()\n",
        "root.title('codemy.com Image Viewer')\n",
        "root.iconbitmap(r'boy.ico')\n",
        "\n",
        "root.filename = filedialog.askopenfilename(initialdir = 'C:/Users/DELL/Desktop/images', title = 'select a file', filetypes = (('png files', '*.png'),('all files','*.*')))\n",
        "my_label = Label(root, text = root.filename).pack()\n",
        "my_image = ImageTk.PhotoImage(Image.open(root.filename))\n",
        "my_image_label = Label(image = my_image).pack()\n",
        "\n",
        "root.mainloop()"
      ],
      "execution_count": 0,
      "outputs": []
    },
    {
      "cell_type": "code",
      "metadata": {
        "id": "nKIjtapOfGrI",
        "colab_type": "code",
        "colab": {}
      },
      "source": [
        "#open files dialog box4\n",
        "\n",
        "from tkinter import *\n",
        "from PIL import ImageTk,Image\n",
        "from tkinter import filedialog\n",
        "\n",
        "root = Tk()\n",
        "root.title('codemy.com Image Viewer')\n",
        "root.iconbitmap(r'boy.ico')\n",
        "\n",
        "def open():\n",
        "  global my_image\n",
        "  root.filename = filedialog.askopenfilename(initialdir = 'C:/Users/DELL/Desktop/images', title = 'select a file', filetypes = (('png files', '*.png'),('all files','*.*')))\n",
        "  my_label = Label(root, text = root.filename).pack()\n",
        "  my_image = ImageTk.PhotoImage(Image.open(root.filename))\n",
        "  my_image_label = Label(image = my_image).pack()\n",
        "\n",
        "\n",
        "my_btn = Button(root, text = \"open file\", command = open).pack()\n",
        "\n",
        "root.mainloop()"
      ],
      "execution_count": 0,
      "outputs": []
    },
    {
      "cell_type": "code",
      "metadata": {
        "id": "d4mtM09Mgv9s",
        "colab_type": "code",
        "colab": {}
      },
      "source": [
        "#sliders with Tkinter\n",
        "\n",
        "from tkinter import *\n",
        "from PIL import ImageTk,Image\n",
        "\n",
        "root = Tk()\n",
        "root.title('codemy.com Image Viewer')\n",
        "root.iconbitmap(r'boy.ico')\n",
        "root.geometry('400x400')\n",
        "\n",
        "vertical = Scale(root, from_ = 0, to = 200)\n",
        "vertical.pack()\n",
        "\n",
        "horizontal = Scale(root, from_ = 0, to = 200, orient = HORIZONTAL)\n",
        "horizontal.pack()\n",
        "\n",
        "root.mainloop()"
      ],
      "execution_count": 0,
      "outputs": []
    },
    {
      "cell_type": "code",
      "metadata": {
        "id": "NjBoogXcogr8",
        "colab_type": "code",
        "colab": {}
      },
      "source": [
        "#sliders with Tkinter2\n",
        "\n",
        "from tkinter import *\n",
        "from PIL import ImageTk,Image\n",
        "\n",
        "root = Tk()\n",
        "root.title('codemy.com Image Viewer')\n",
        "root.iconbitmap(r'boy.ico')\n",
        "root.geometry('400x400')\n",
        "\n",
        "vertical = Scale(root, from_ = 0, to = 400)\n",
        "vertical.pack()\n",
        "\n",
        "horizontal = Scale(root, from_ = 0, to = 400, orient = HORIZONTAL)\n",
        "horizontal.pack()\n",
        "\n",
        "my_label = Label(root, text = horizontal.get()).pack()\n",
        "\n",
        "def slide():\n",
        "  my_label = Label(root, text = horizontal.get()).pack()\n",
        "  root.geometry(str(horizontal.get()) + 'x400')\n",
        "\n",
        "my_btn = Button(root,text = 'click me', command = slide).pack()\n",
        "\n",
        "root.mainloop()"
      ],
      "execution_count": 0,
      "outputs": []
    },
    {
      "cell_type": "code",
      "metadata": {
        "id": "YYciSXYXk2u9",
        "colab_type": "code",
        "colab": {}
      },
      "source": [
        "#sliders with Tkinter3\n",
        "\n",
        "from tkinter import *\n",
        "from PIL import ImageTk,Image\n",
        "\n",
        "root = Tk()\n",
        "root.title('codemy.com Image Viewer')\n",
        "root.iconbitmap(r'boy.ico')\n",
        "root.geometry('400x400')\n",
        "\n",
        "def slide(var):\n",
        "  my_label = Label(root, text = horizontal.get()).pack()\n",
        "  root.geometry(str(horizontal.get()) + 'x400')\n",
        "\n",
        "vertical = Scale(root, from_ = 0, to = 400)\n",
        "vertical.pack()\n",
        "\n",
        "horizontal = Scale(root, from_ = 0, to = 400, orient = HORIZONTAL, command = slide)\n",
        "horizontal.pack()\n",
        "\n",
        "my_label = Label(root, text = horizontal.get()).pack()\n",
        "\n",
        "\n",
        "my_btn = Button(root,text = 'click me', command = slide).pack()\n",
        "\n",
        "root.mainloop()"
      ],
      "execution_count": 0,
      "outputs": []
    },
    {
      "cell_type": "code",
      "metadata": {
        "id": "hIiVxpwBrK2Y",
        "colab_type": "code",
        "colab": {}
      },
      "source": [
        "#sliders with Tkinter4\n",
        "\n",
        "from tkinter import *\n",
        "from PIL import ImageTk,Image\n",
        "\n",
        "root = Tk()\n",
        "root.title('codemy.com Image Viewer')\n",
        "root.iconbitmap(r'boy.ico')\n",
        "root.geometry('400x400')\n",
        "\n",
        "def slide():\n",
        "  my_label = Label(root, text = horizontal.get()).pack()\n",
        "  root.geometry(str(horizontal.get()) + 'x' + str(vertical.get()))\n",
        "\n",
        "vertical = Scale(root, from_ = 0, to = 400)\n",
        "vertical.pack()\n",
        "\n",
        "horizontal = Scale(root, from_ = 0, to = 400, orient = HORIZONTAL)\n",
        "horizontal.pack()\n",
        "\n",
        "my_label = Label(root, text = horizontal.get()).pack()\n",
        "\n",
        "\n",
        "my_btn = Button(root,text = 'click me', command = slide).pack()\n",
        "\n",
        "root.mainloop()"
      ],
      "execution_count": 0,
      "outputs": []
    }
  ]
}